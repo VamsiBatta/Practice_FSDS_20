{
 "cells": [
  {
   "cell_type": "markdown",
   "id": "dff3092d",
   "metadata": {},
   "source": [
    "# 1st Question"
   ]
  },
  {
   "cell_type": "code",
   "execution_count": 5,
   "id": "8415234e",
   "metadata": {},
   "outputs": [
    {
     "name": "stdout",
     "output_type": "stream",
     "text": [
      "5\n"
     ]
    }
   ],
   "source": [
    "def len_s(s):\n",
    "    \"\"\"This Method Will return the Length of a String\"\"\"\n",
    "    count = 0\n",
    "    for i in s:\n",
    "        count += 1 \n",
    "    return count\n",
    "        \n",
    "a = \"Vamsi\"\n",
    "print(len_s(a))"
   ]
  },
  {
   "cell_type": "markdown",
   "id": "eacb1f0c",
   "metadata": {},
   "source": [
    "# 2nd Question"
   ]
  },
  {
   "cell_type": "code",
   "execution_count": 35,
   "id": "8343d59a",
   "metadata": {},
   "outputs": [
    {
     "name": "stdout",
     "output_type": "stream",
     "text": [
      "{0: 5, 1: 20.4, 2: 'Vamsi', 4: True}\n"
     ]
    }
   ],
   "source": [
    "def primitive(l):\n",
    "    \"\"\"This Method Will return the Indexes and Values of the Primitive elements in a list \"\"\"\n",
    "    Values = []\n",
    "    Indexes = []\n",
    "    if type(l) == int or type(l) == bool or type(l) == str or type(l) == float:\n",
    "        print(\"0\")\n",
    "    elif type(l) == list:\n",
    "        for i in range(len(l)):\n",
    "            if type(l[i]) == int or type(l[i]) == bool or type(l[i]) == str or type(l[i]) == float:\n",
    "                Values.append(l[i])\n",
    "                Indexes.append(i)\n",
    "            elif type(l[i]) == tuple or type(l[i]) == str or type(l[i]) == list or type(l[i]) == complex or type(l[i]) == dict:\n",
    "                continue\n",
    "    a = dict(zip(Indexes, Values))\n",
    "    return a\n",
    "    \n",
    "x = [5, 20.4, \"Vamsi\", [1,2,3], True, 3+6j]\n",
    "print(primitive(x))\n",
    "                \n",
    "    "
   ]
  },
  {
   "cell_type": "markdown",
   "id": "7cdab093",
   "metadata": {},
   "source": [
    "# 3rd Question"
   ]
  },
  {
   "cell_type": "code",
   "execution_count": 44,
   "id": "7f485781",
   "metadata": {},
   "outputs": [
    {
     "name": "stdout",
     "output_type": "stream",
     "text": [
      "['Vamsi', '2.56', 2, 0, (6+3j)]\n"
     ]
    }
   ],
   "source": [
    "lst_values = []\n",
    "def dict_list(d):\n",
    "    \"\"\"This method will return the values of a dictionary even if it has the nested dictionary's\"\"\"\n",
    "    for i in d.values():\n",
    "        if type(i) == dict:\n",
    "            dict_list(i)\n",
    "        else:\n",
    "            lst_values.append(i)\n",
    "    return lst_values\n",
    "\n",
    "x = {1:\"Vamsi\", 2:\"2.56\", 3:{1:2,6:0}, 4:6+3j}\n",
    "if type(x) == dict:\n",
    "    print(dict_list(x))\n",
    "else:\n",
    "    print(\"Enter the Values in Dict Format\")\n",
    "        \n",
    "        "
   ]
  },
  {
   "cell_type": "markdown",
   "id": "fe306ad8",
   "metadata": {},
   "source": [
    "# 4th Question"
   ]
  },
  {
   "cell_type": "code",
   "execution_count": 49,
   "id": "8b404649",
   "metadata": {},
   "outputs": [
    {
     "name": "stdout",
     "output_type": "stream",
     "text": [
      "[1, 2, 3, 4, 5]\n"
     ]
    }
   ],
   "source": [
    "def meth_input_meth(method):\n",
    "    return method\n",
    "    \n",
    "def method(x):\n",
    "    s = 0\n",
    "    for i in x:\n",
    "        s += i\n",
    "    return s\n",
    "\n",
    "    \n",
    "a = [1,2,3,4,5]\n",
    "print(meth_input_meth(a))\n",
    "    "
   ]
  },
  {
   "cell_type": "markdown",
   "id": "30b4c5be",
   "metadata": {},
   "source": [
    "# 5th Question"
   ]
  },
  {
   "cell_type": "code",
   "execution_count": 56,
   "id": "ed4a2213",
   "metadata": {},
   "outputs": [
    {
     "name": "stdout",
     "output_type": "stream",
     "text": [
      "[1, 2, 3, 4, 9, 5, 9, 60, 4, 7, 6, 9.6, 5]\n"
     ]
    }
   ],
   "source": [
    "def concat(lsts):\n",
    "    a = []\n",
    "    for i in range(len(lsts)):\n",
    "        a.extend(lsts[i])\n",
    "    return a\n",
    "\n",
    "\n",
    "print(concat([[1,2,3,4],[9,5,9],[60,4,7],[6,9.6,5]]))"
   ]
  },
  {
   "cell_type": "markdown",
   "id": "43fa5a53",
   "metadata": {},
   "source": [
    "# 6th Question"
   ]
  },
  {
   "cell_type": "code",
   "execution_count": 69,
   "id": "361735d1",
   "metadata": {},
   "outputs": [
    {
     "name": "stdout",
     "output_type": "stream",
     "text": [
      "Index of  5 is  0\n",
      "Index of  0 is  1\n",
      "Index of  7 is  2\n",
      "Index of  3 is  3\n",
      "Index of  0 is  4\n",
      "Index of  6 is  5\n",
      "Index of  2 is  6\n",
      "Index of  7 is  7\n",
      "None\n"
     ]
    }
   ],
   "source": [
    "def index(l):\n",
    "    \"\"\"This function prints the indexes of every element in a list even if the list contain the repetitive elements\"\"\"\n",
    "    Values = []\n",
    "    Index = []\n",
    "    for i in range(len(l)):\n",
    "        print(\"Index of \",l[i],\"is \", i)\n",
    "        \n",
    "\n",
    "\n",
    "lst = [5,0,7,3,0,6,2,7]\n",
    "print(index(lst))"
   ]
  },
  {
   "cell_type": "markdown",
   "id": "94cf96fa",
   "metadata": {},
   "source": [
    "# 7th Question"
   ]
  },
  {
   "cell_type": "code",
   "execution_count": 15,
   "id": "5449612f",
   "metadata": {},
   "outputs": [
    {
     "name": "stdout",
     "output_type": "stream",
     "text": [
      "MySQL.pdf \n",
      "\n",
      "MySQL_1.docx \n",
      "\n",
      "MySQL_1.pdf \n",
      "\n"
     ]
    }
   ],
   "source": [
    "import os\n",
    "\n",
    "def file_names(path):\n",
    "    \"\"\"Using this Method we can get the names of the files presesnt in a Directory\"\"\"\n",
    "    lst = []\n",
    "    dir_list = os.listdir(path)\n",
    "    return dir_list\n",
    "\n",
    "\n",
    "\n",
    "path = \"D:\\\\DOCUMENTS\\\\MySQL\"\n",
    "\n",
    "x = file_names(path)\n",
    "for i in x:\n",
    "    print(i,\"\\n\")\n"
   ]
  },
  {
   "cell_type": "markdown",
   "id": "6e685e1a",
   "metadata": {},
   "source": [
    "# 8th Question"
   ]
  },
  {
   "cell_type": "code",
   "execution_count": 29,
   "id": "4b3a4546",
   "metadata": {},
   "outputs": [
    {
     "name": "stdout",
     "output_type": "stream",
     "text": [
      "\n",
      "Host Name:                 DESKTOP-R89UR5J\n",
      "OS Name:                   Microsoft Windows 11 Pro\n",
      "OS Version:                10.0.22000 N/A Build 22000\n",
      "OS Manufacturer:           Microsoft Corporation\n",
      "OS Configuration:          Standalone Workstation\n",
      "OS Build Type:             Multiprocessor Free\n",
      "Registered Owner:          Vamsi\n",
      "Registered Organization:   \n",
      "Product ID:                00330-51660-39025-AAOEM\n",
      "Original Install Date:     07-11-2021, 03:15:28 PM\n",
      "System Boot Time:          06-01-2022, 01:01:15 PM\n",
      "System Manufacturer:       HP\n",
      "System Model:              HP ProBook 440 G5\n",
      "System Type:               x64-based PC\n",
      "Processor(s):              1 Processor(s) Installed.\n",
      "                           [01]: Intel64 Family 6 Model 142 Stepping 10 GenuineIntel ~1600 Mhz\n",
      "BIOS Version:              HP Q85 Ver. 01.16.00, 22-04-2021\n",
      "Windows Directory:         C:\\\\WINDOWS\n",
      "System Directory:          C:\\\\WINDOWS\\\\system32\n",
      "Boot Device:               \\\\Device\\\\HarddiskVolume2\n",
      "System Locale:             en-us;English (United States)\n",
      "Input Locale:              00004009\n",
      "Time Zone:                 (UTC+05:30) Chennai, Kolkata, Mumbai, New Delhi\n",
      "Total Physical Memory:     8,083 MB\n",
      "Available Physical Memory: 3,623 MB\n",
      "Virtual Memory: Max Size:  9,363 MB\n",
      "Virtual Memory: Available: 3,743 MB\n",
      "Virtual Memory: In Use:    5,620 MB\n",
      "Page File Location(s):     C:\\\\pagefile.sys\n",
      "Domain:                    WORKGROUP\n",
      "Logon Server:              \\\\\\\\DESKTOP-R89UR5J\n",
      "Hotfix(s):                 5 Hotfix(s) Installed.\n",
      "                           [01]: KB5007292\n",
      "                           [02]: KB5004567\n",
      "                           [03]: KB5008295\n",
      "                           [04]: KB5008215\n",
      "                           [05]: KB5007414\n",
      "Network Card(s):           3 NIC(s) Installed.\n",
      "                           [01]: Intel(R) Dual Band Wireless-AC 8265\n",
      "                                 Connection Name: Wi-Fi\n",
      "                                 DHCP Enabled:    Yes\n",
      "                                 DHCP Server:     192.168.9.5\n",
      "                                 IP address(es)\n",
      "                                 [01]: 192.168.9.102\n",
      "                                 [02]: fe80::d416:e1f6:b18d:dc6a\n",
      "                           [02]: Realtek PCIe GbE Family Controller\n",
      "                                 Connection Name: Ethernet\n",
      "                                 Status:          Media disconnected\n",
      "                           [03]: Bluetooth Device (Personal Area Network)\n",
      "                                 Connection Name: Bluetooth Network Connection\n",
      "                                 Status:          Media disconnected\n",
      "Hyper-V Requirements:      VM Monitor Mode Extensions: Yes\n",
      "                           Virtualization Enabled In Firmware: Yes\n",
      "                           Second Level Address Translation: Yes\n",
      "                           Data Execution Prevention Available: Yes\n",
      "\n"
     ]
    }
   ],
   "source": [
    "import subprocess\n",
    " \n",
    "# traverse the info\n",
    "Id = subprocess.check_output(['systeminfo']).decode('utf-8').split(\"\\n\")\n",
    "new = []\n",
    " \n",
    "# arrange the string into clear info\n",
    "for item in Id:\n",
    "    new.append(str(item.split(\"\\r\")[:-1]))\n",
    "for i in new:\n",
    "    print(i[2:-2])"
   ]
  },
  {
   "cell_type": "code",
   "execution_count": 34,
   "id": "ffb7b2b6",
   "metadata": {},
   "outputs": [
    {
     "name": "stdout",
     "output_type": "stream",
     "text": [
      "Manufacturer: HP\n",
      "Model: HP ProBook 440 G5\n",
      "Name: DESKTOP-R89UR5J\n",
      "NumberOfProcessors: 1\n",
      "SystemType: x64-based PC\n",
      "SystemFamily: 103C_5336AN HP ProBook\n"
     ]
    }
   ],
   "source": [
    "import wmi\n",
    "\n",
    "c = wmi.WMI()\n",
    "my_system = c.Win32_ComputerSystem()[-1]\n",
    "\n",
    "print(f\"Manufacturer: {my_system.Manufacturer}\")\n",
    "print(f\"Model: {my_system. Model}\")\n",
    "print(f\"Name: {my_system.Name}\")\n",
    "print(f\"NumberOfProcessors: {my_system.NumberOfProcessors}\")\n",
    "print(f\"SystemType: {my_system.SystemType}\")\n",
    "print(f\"SystemFamily: {my_system.SystemFamily}\")\n"
   ]
  },
  {
   "cell_type": "markdown",
   "id": "bdc00fb1",
   "metadata": {},
   "source": [
    "# 9th Question"
   ]
  },
  {
   "cell_type": "code",
   "execution_count": 35,
   "id": "1377e5e1",
   "metadata": {},
   "outputs": [
    {
     "name": "stdout",
     "output_type": "stream",
     "text": [
      "Collecting datetime\n",
      "  Using cached DateTime-4.3-py2.py3-none-any.whl (60 kB)\n",
      "Requirement already satisfied: zope.interface in c:\\users\\vamsi\\anaconda3\\lib\\site-packages (from datetime) (5.4.0)\n",
      "Requirement already satisfied: pytz in c:\\users\\vamsi\\anaconda3\\lib\\site-packages (from datetime) (2021.3)\n",
      "Requirement already satisfied: setuptools in c:\\users\\vamsi\\anaconda3\\lib\\site-packages (from zope.interface->datetime) (58.0.4)\n",
      "Installing collected packages: datetime\n",
      "Successfully installed datetime-4.3\n"
     ]
    }
   ],
   "source": [
    "!pip install datetime"
   ]
  },
  {
   "cell_type": "code",
   "execution_count": 67,
   "id": "2147736d",
   "metadata": {},
   "outputs": [
    {
     "name": "stdout",
     "output_type": "stream",
     "text": [
      "2022-01-06\n",
      "15:31:15\n"
     ]
    }
   ],
   "source": [
    "from datetime import date, datetime\n",
    "\n",
    "print(date.today())\n",
    "print(datetime.now().strftime(\"%H:%M:%S\"))\n"
   ]
  },
  {
   "cell_type": "code",
   "execution_count": 73,
   "id": "82e2c8dd",
   "metadata": {},
   "outputs": [
    {
     "data": {
      "text/plain": [
       "CompletedProcess(args='dir -la', returncode=1)"
      ]
     },
     "execution_count": 73,
     "metadata": {},
     "output_type": "execute_result"
    }
   ],
   "source": [
    "import subprocess\n",
    "subprocess.run('dir -la',shell = True)"
   ]
  },
  {
   "cell_type": "markdown",
   "id": "7d7caeb4",
   "metadata": {},
   "source": [
    "# 10th Question"
   ]
  },
  {
   "cell_type": "code",
   "execution_count": 77,
   "id": "9e384e76",
   "metadata": {},
   "outputs": [],
   "source": [
    "f = open(\"D:\\\\EXTRA\\\\DATA\\\\PAN.jpg\",'rb')\n",
    "f1 = open(\"D:\\\\EXTRA\\\\DATA\\\\PAN2.jpg\",'wb')\n",
    "\n",
    "for i in f:\n",
    "    f1.write(i)"
   ]
  },
  {
   "cell_type": "code",
   "execution_count": null,
   "id": "422c81b1",
   "metadata": {},
   "outputs": [],
   "source": []
  },
  {
   "cell_type": "code",
   "execution_count": null,
   "id": "c91c227a",
   "metadata": {},
   "outputs": [],
   "source": []
  },
  {
   "cell_type": "code",
   "execution_count": null,
   "id": "36ab862b",
   "metadata": {},
   "outputs": [],
   "source": []
  },
  {
   "cell_type": "code",
   "execution_count": null,
   "id": "9ec88f54",
   "metadata": {},
   "outputs": [],
   "source": []
  },
  {
   "cell_type": "code",
   "execution_count": null,
   "id": "8ea00716",
   "metadata": {},
   "outputs": [],
   "source": []
  }
 ],
 "metadata": {
  "kernelspec": {
   "display_name": "Python 3 (ipykernel)",
   "language": "python",
   "name": "python3"
  },
  "language_info": {
   "codemirror_mode": {
    "name": "ipython",
    "version": 3
   },
   "file_extension": ".py",
   "mimetype": "text/x-python",
   "name": "python",
   "nbconvert_exporter": "python",
   "pygments_lexer": "ipython3",
   "version": "3.9.7"
  }
 },
 "nbformat": 4,
 "nbformat_minor": 5
}
